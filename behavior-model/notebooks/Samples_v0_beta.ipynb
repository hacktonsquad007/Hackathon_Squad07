{
  "nbformat": 4,
  "nbformat_minor": 0,
  "metadata": {
    "colab": {
      "provenance": [],
      "history_visible": true
    },
    "kernelspec": {
      "name": "python3",
      "display_name": "Python 3"
    },
    "language_info": {
      "name": "python"
    }
  },
  "cells": [
    {
      "cell_type": "code",
      "source": [
        "from google.colab import drive\n",
        "drive.mount('/content/drive')\n",
        "\n",
        "from pyspark.sql import SparkSession\n",
        "from pyspark.sql.types import *\n",
        "from pyspark.sql.functions import to_date, col\n",
        "\n",
        "spark = SparkSession.builder.appName(\"samples_1\").getOrCreate()"
      ],
      "metadata": {
        "colab": {
          "base_uri": "https://localhost:8080/"
        },
        "id": "Gy0aE3pKTZTT",
        "outputId": "db37bdbb-8738-4333-ca52-4d2c3a6363c8"
      },
      "execution_count": 2,
      "outputs": [
        {
          "output_type": "stream",
          "name": "stdout",
          "text": [
            "Mounted at /content/drive\n"
          ]
        }
      ]
    },
    {
      "cell_type": "code",
      "execution_count": 3,
      "metadata": {
        "colab": {
          "base_uri": "https://localhost:8080/"
        },
        "id": "Yt9SMRqCS-y_",
        "outputId": "1f7b412a-9dee-42b9-a980-02a71a8496ca"
      },
      "outputs": [
        {
          "output_type": "stream",
          "name": "stdout",
          "text": [
            "root\n",
            " |-- ch_cpf_hash: string (nullable = true)\n",
            " |-- vl_qnt_conta: long (nullable = true)\n",
            " |-- dt_min_adesao: date (nullable = true)\n",
            " |-- dt_max_adesao: date (nullable = true)\n",
            " |-- vl_min_limite_aprovado: decimal(7,2) (nullable = true)\n",
            " |-- vl_max_limite_aprovado: decimal(7,2) (nullable = true)\n",
            " |-- vl_total_limite_aprovado: decimal(38,2) (nullable = true)\n",
            " |-- min_saldo_devedor: decimal(38,2) (nullable = true)\n",
            " |-- max_saldo_devedor: decimal(38,2) (nullable = true)\n",
            " |-- total_saldo_devedor: decimal(38,2) (nullable = true)\n",
            " |-- min_dias_atraso: integer (nullable = true)\n",
            " |-- max_dias_atraso: integer (nullable = true)\n",
            "\n",
            "+----------------------------------------------------------------+------------+-------------+-------------+----------------------+----------------------+------------------------+-----------------+-----------------+-------------------+---------------+---------------+\n",
            "|ch_cpf_hash                                                     |vl_qnt_conta|dt_min_adesao|dt_max_adesao|vl_min_limite_aprovado|vl_max_limite_aprovado|vl_total_limite_aprovado|min_saldo_devedor|max_saldo_devedor|total_saldo_devedor|min_dias_atraso|max_dias_atraso|\n",
            "+----------------------------------------------------------------+------------+-------------+-------------+----------------------+----------------------+------------------------+-----------------+-----------------+-------------------+---------------+---------------+\n",
            "|9bf2d51b1ef88949aa2808c35d49848d9bf77f559cd70d654f4bfef554d4152a|1           |2021-12-17   |2021-12-17   |1700.00               |1700.00               |1700.00                 |0.00             |0.00             |0.00               |0              |0              |\n",
            "|173da58d554c85dbf35b44408b32ff373962714c475d5abc192d9807046ee8bd|1           |2021-12-21   |2021-12-21   |1500.00               |1500.00               |1500.00                 |1168.25          |1168.25          |1168.25            |312            |312            |\n",
            "|9d1c3c5f7ff1b69c45c6a56b8d07e792c258bbb9f229a5081c7a0f0b082e3b86|1           |2021-12-22   |2021-12-22   |900.00                |900.00                |900.00                  |229.09           |229.09           |229.09             |0              |0              |\n",
            "|e967c421cd22012b78a46a444c3750c492c1ea90be45ed6d9b6dd8e8aeb88196|1           |2021-12-23   |2021-12-23   |1700.00               |1700.00               |1700.00                 |-8.19            |-8.19            |-8.19              |0              |0              |\n",
            "|95a0b5e404440ba252e325cf06d6bcd72ebe4c58d83fd65398c9a29557bfceae|1           |2021-12-27   |2021-12-27   |2000.00               |2000.00               |2000.00                 |0.00             |0.00             |0.00               |0              |0              |\n",
            "|1cf1b30136539d644c04f2ecd5d0ed9169e4a167148e626fcbe301836fb81e10|1           |2022-01-03   |2022-01-03   |900.00                |900.00                |900.00                  |-22.49           |-22.49           |-22.49             |952            |952            |\n",
            "|2545866a04b684c891a8d75da56c8071e3c347d4494d118fc0ace72c4b710a31|1           |2022-01-06   |2022-01-06   |4000.00               |4000.00               |4000.00                 |0.00             |0.00             |0.00               |738            |738            |\n",
            "|8a56bc110b1c591232d1971264987d932c8eee80dad1a8a6e68bddf1bcb853a6|1           |2022-01-17   |2022-01-17   |6000.00               |6000.00               |6000.00                 |3458.33          |3458.33          |3458.33            |322            |322            |\n",
            "|a557fe6e7938771342ee14a635477e8d8d26ed75c31c25b19dfde9dbb726219a|1           |2022-01-17   |2022-01-17   |1500.00               |1500.00               |1500.00                 |1.57             |1.57             |1.57               |0              |0              |\n",
            "|e9cf85bd2bb07c37c4992eec98b8823bb9a7058053f88859e7c35142ba1e1fc6|1           |2022-01-26   |2022-01-26   |3800.00               |3800.00               |3800.00                 |261.95           |261.95           |261.95             |37             |37             |\n",
            "+----------------------------------------------------------------+------------+-------------+-------------+----------------------+----------------------+------------------------+-----------------+-----------------+-------------------+---------------+---------------+\n",
            "only showing top 10 rows\n",
            "\n",
            "+--------+\n",
            "|count(1)|\n",
            "+--------+\n",
            "|  225530|\n",
            "+--------+\n",
            "\n"
          ]
        }
      ],
      "source": [
        "# Criando o df da base desejada olhando apenas uma parição\n",
        "\n",
        "df= spark.read.parquet(\"/content/drive/MyDrive/ingestion/fato_total_risco_trigg/dt_fechamento=2024-10-31\")\n",
        "df.printSchema()\n",
        "df.show(n=10, truncate=False)\n",
        "df.createOrReplaceTempView(\"df\")\n",
        "spark.sql(\"\"\"\n",
        "select count(*) from df\n",
        "\"\"\").show(5)"
      ]
    },
    {
      "cell_type": "code",
      "source": [
        "df= spark.read.parquet(\"/content/drive/MyDrive/ingestion/fato_total_risco_trigg/dt_fechamento=2024-09-30\")\n",
        "df.createOrReplaceTempView(\"df\")\n",
        "spark.sql(\"\"\"\n",
        "select count(*) as trigg from df\n",
        "\"\"\").show(5)\n",
        "\n",
        "df= spark.read.parquet(\"/content/drive/MyDrive/ingestion/fato_total_risco_uze/dt_fechamento=2024-09-30\")\n",
        "df.createOrReplaceTempView(\"df\")\n",
        "spark.sql(\"\"\"\n",
        "select count(*) as uze from df\n",
        "\"\"\").show(5)\n",
        "\n",
        "df= spark.read.parquet(\"/content/drive/MyDrive/ingestion/fato_total_risco_fortbrasil/dt_fechamento=2024-09-30\")\n",
        "df.createOrReplaceTempView(\"df\")\n",
        "spark.sql(\"\"\"\n",
        "select count(*) as fortbrasil from df\n",
        "\"\"\").show(5)\n",
        "\n",
        "df= spark.read.parquet(\"/content/drive/MyDrive/ingestion/fato_total_risco_credz/dt_fechamento=2024-09-30\")\n",
        "df.createOrReplaceTempView(\"df\")\n",
        "spark.sql(\"\"\"\n",
        "select count(*) as credz from df\n",
        "\"\"\").show(5)\n",
        "\n",
        "df= spark.read.parquet(\"/content/drive/MyDrive/ingestion/fato_total_risco_dm/dt_fechamento=2024-09-30\")\n",
        "df.createOrReplaceTempView(\"df\")\n",
        "spark.sql(\"\"\"\n",
        "select count(*) as dm from df\n",
        "\"\"\").show(5)"
      ],
      "metadata": {
        "colab": {
          "base_uri": "https://localhost:8080/"
        },
        "id": "mbdyoa-wUmtK",
        "outputId": "91f6e770-48e2-4ba0-b96a-a7cfccbaa4fd"
      },
      "execution_count": 5,
      "outputs": [
        {
          "output_type": "stream",
          "name": "stdout",
          "text": [
            "+------+\n",
            "| trigg|\n",
            "+------+\n",
            "|225530|\n",
            "+------+\n",
            "\n",
            "+-------+\n",
            "|    uze|\n",
            "+-------+\n",
            "|2485972|\n",
            "+-------+\n",
            "\n",
            "+----------+\n",
            "|fortbrasil|\n",
            "+----------+\n",
            "|   2760647|\n",
            "+----------+\n",
            "\n",
            "+-------+\n",
            "|  credz|\n",
            "+-------+\n",
            "|2221295|\n",
            "+-------+\n",
            "\n",
            "+-------+\n",
            "|     dm|\n",
            "+-------+\n",
            "|5796543|\n",
            "+-------+\n",
            "\n"
          ]
        }
      ]
    },
    {
      "cell_type": "markdown",
      "source": [
        "![image.png](data:image/png;base64,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)"
      ],
      "metadata": {
        "id": "LVC18zGlXKKd"
      }
    },
    {
      "cell_type": "code",
      "source": [
        "df= spark.read.parquet(\"/content/drive/MyDrive/ingestion/fato_total_risco_trigg/dt_fechamento=2024-09-30\")\n",
        "df.createOrReplaceTempView(\"df\")\n",
        "spark.sql(\"\"\"\n",
        "select count(*) as trigg from df\n",
        "\"\"\").show(5)\n",
        "\n",
        "#Realizando o sample\n",
        "df = df.sample(withReplacement=False, fraction=0.03, seed=42)\n",
        "df.createOrReplaceTempView(\"df\")\n",
        "spark.sql(\"\"\"\n",
        "select count(*) from df\n",
        "\"\"\").show(5)\n"
      ],
      "metadata": {
        "colab": {
          "base_uri": "https://localhost:8080/"
        },
        "id": "0I0INZYZXW6a",
        "outputId": "f6e71a20-c8aa-4d91-8b1c-9ad5c000a131"
      },
      "execution_count": 8,
      "outputs": [
        {
          "output_type": "stream",
          "name": "stdout",
          "text": [
            "+------+\n",
            "| trigg|\n",
            "+------+\n",
            "|225530|\n",
            "+------+\n",
            "\n",
            "+--------+\n",
            "|count(1)|\n",
            "+--------+\n",
            "|    6846|\n",
            "+--------+\n",
            "\n"
          ]
        }
      ]
    },
    {
      "cell_type": "code",
      "source": [
        "cpf_filter = df.select(\"ch_cpf_hash\").distinct().rdd.flatMap(lambda x: x).collect()\n"
      ],
      "metadata": {
        "id": "FE502XDJZxw0"
      },
      "execution_count": 10,
      "outputs": []
    },
    {
      "cell_type": "code",
      "source": [
        "from datetime import datetime, timedelta\n",
        "import calendar\n",
        "from dateutil.relativedelta import relativedelta\n",
        "\n",
        "# Data base inicial\n",
        "dt_fechamento_desejada = datetime.strptime(\"2024-09-30\", \"%Y-%m-%d\") #Data final desejada\n",
        "\n",
        "# Gerar os últimos 12 meses com o último dia de cada mês\n",
        "datas = []\n",
        "for i in range(4):\n",
        "    # Subtrair os meses\n",
        "    nova_data = dt_fechamento_desejada - relativedelta(months=i)\n",
        "    # Obter o último dia do mês\n",
        "    last_day = calendar.monthrange(nova_data.year, nova_data.month)[1]\n",
        "    datas.append(nova_data.replace(day=last_day).strftime(\"%Y-%m-%d\"))\n",
        "\n",
        "# Exibir os resultados\n",
        "print(datas)"
      ],
      "metadata": {
        "colab": {
          "base_uri": "https://localhost:8080/"
        },
        "id": "mWac4LhjYunQ",
        "outputId": "edcf0127-c6a6-49e2-e010-a4310a6830bf"
      },
      "execution_count": 9,
      "outputs": [
        {
          "output_type": "stream",
          "name": "stdout",
          "text": [
            "['2024-09-30', '2024-08-31', '2024-07-31', '2024-06-30']\n"
          ]
        }
      ]
    },
    {
      "cell_type": "code",
      "source": [
        "base_path = \"/content/drive/MyDrive/ingestion/fato_total_risco_trigg\"\n",
        "paths = [f\"{base_path}/dt_fechamento={data}\" for data in datas]\n",
        "print(paths)\n",
        "\n",
        "# Ler todas as partições\n",
        "df_12_meses = spark.read.parquet(*paths)\n",
        "df.createOrReplaceTempView(\"df_12_meses\")"
      ],
      "metadata": {
        "colab": {
          "base_uri": "https://localhost:8080/"
        },
        "id": "lXdap3KVZoWF",
        "outputId": "50fa398c-e082-4d69-d1d1-14c61bd425ec"
      },
      "execution_count": 12,
      "outputs": [
        {
          "output_type": "stream",
          "name": "stdout",
          "text": [
            "['/content/drive/MyDrive/ingestion/fato_total_risco_trigg/dt_fechamento=2024-09-30', '/content/drive/MyDrive/ingestion/fato_total_risco_trigg/dt_fechamento=2024-08-31', '/content/drive/MyDrive/ingestion/fato_total_risco_trigg/dt_fechamento=2024-07-31', '/content/drive/MyDrive/ingestion/fato_total_risco_trigg/dt_fechamento=2024-06-30']\n"
          ]
        }
      ]
    },
    {
      "cell_type": "markdown",
      "source": [],
      "metadata": {
        "id": "8_KABnjpXOVH"
      }
    },
    {
      "cell_type": "code",
      "source": [
        "# Filtrar o DataFrame de 12 meses pelos CPFs selecionados\n",
        "df = df_12_meses.filter(df_12_meses[\"ch_cpf_hash\"].isin(cpf_filter))\n",
        "df.describe().show()"
      ],
      "metadata": {
        "colab": {
          "base_uri": "https://localhost:8080/"
        },
        "id": "GYi-4D5vank9",
        "outputId": "b563df97-bbb9-4ff1-d6b9-1bcedfb4f60d"
      },
      "execution_count": 13,
      "outputs": [
        {
          "output_type": "stream",
          "name": "stdout",
          "text": [
            "+-------+--------------------+--------------------+----------------------+----------------------+------------------------+------------------+-----------------+-------------------+-----------------+-----------------+\n",
            "|summary|         ch_cpf_hash|        vl_qnt_conta|vl_min_limite_aprovado|vl_max_limite_aprovado|vl_total_limite_aprovado| min_saldo_devedor|max_saldo_devedor|total_saldo_devedor|  min_dias_atraso|  max_dias_atraso|\n",
            "+-------+--------------------+--------------------+----------------------+----------------------+------------------------+------------------+-----------------+-------------------+-----------------+-----------------+\n",
            "|  count|               27384|               27384|                 27384|                 27384|                   27384|             27384|            27384|              27384|            27384|            27384|\n",
            "|   mean|                NULL|  1.0004382120946538|           2128.162431|           2128.878177|             2131.032720|       1252.233453|      1252.439101|        1252.858156|98.47819894829097|98.47819894829097|\n",
            "| stddev|                NULL|0.020929311046286835|    1640.1470083998374|     1640.767235619993|        1647.31434109831|2278.5923796121992|  2278.6517893602|   2279.23656084917|222.7888711169243|222.7888711169243|\n",
            "|    min|0006cc07ffcebd791...|                   1|                  0.00|                  0.00|                    0.00|          -1680.26|         -1680.26|           -1680.26|                0|                0|\n",
            "|    max|fff9939edddabc63b...|                   2|              12500.00|              12500.00|                22000.00|          26223.33|         26223.33|           26223.33|             2625|             2625|\n",
            "+-------+--------------------+--------------------+----------------------+----------------------+------------------------+------------------+-----------------+-------------------+-----------------+-----------------+\n",
            "\n"
          ]
        }
      ]
    },
    {
      "cell_type": "code",
      "source": [
        "# Caminho onde você quer salvar o DataFrame no Google Drive\n",
        "output_path = \"/content/drive/MyDrive/ingestion/SOT/tb_risco_trigg_12M\"\n",
        "\n",
        "# Salvar o DataFrame como um arquivo Parquet\n",
        "df_12_meses.write.parquet(output_path, mode=\"overwrite\")\n",
        "\n",
        "print(f\"DataFrame salvo em: {output_path}\")\n",
        "\n",
        "# Finalizar a sessão do Spark\n",
        "# spark.stop()"
      ],
      "metadata": {
        "colab": {
          "base_uri": "https://localhost:8080/"
        },
        "id": "RbotiRcRbH9L",
        "outputId": "ac5533be-b743-4978-dff4-648a93d258a5"
      },
      "execution_count": 14,
      "outputs": [
        {
          "output_type": "stream",
          "name": "stdout",
          "text": [
            "DataFrame salvo em: /content/drive/MyDrive/ingestion/SOT/tb_risco_trigg_12M\n"
          ]
        }
      ]
    }
  ]
}